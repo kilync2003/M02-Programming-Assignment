{
 "cells": [
  {
   "cell_type": "code",
   "execution_count": 1,
   "metadata": {},
   "outputs": [
    {
     "name": "stdout",
     "output_type": "stream",
     "text": [
      "just right\n"
     ]
    }
   ],
   "source": [
    "#4.1\n",
    "secret = 5\n",
    "guess = int(input(\"Guess a number\"))\n",
    "if(guess == secret):\n",
    "    print(\"just right\")\n",
    "elif(guess > secret):\n",
    "    print(\"too high\")\n",
    "else:\n",
    "    print(\"too low\")\n",
    "\n",
    "#4.2\n",
    "small = True\n",
    "green = False\n",
    "if (small):\n",
    "    if(green):\n",
    "        print(\"pea\")\n",
    "    else:\n",
    "        print(\"watermelon\")\n",
    "else:\n",
    "    if(green):\n",
    "        print(\"watermelon\")\n",
    "    else:\n",
    "        print(\"pumpkin\")\n",
    "#6.1\n",
    "list = [3,2,1,0]\n",
    "for number in list:\n",
    "    print(number)\n",
    "#6.2\n",
    "guess_me = 7\n",
    "number = 1\n",
    "while True:\n",
    "    if(number == guess_me):\n",
    "        print(\"found it!\")\n",
    "        break\n",
    "    elif(number > guess_me):\n",
    "        print(\"oops\")\n",
    "        break\n",
    "    else:\n",
    "        print(\"too low\")\n",
    "        break\n",
    "#6.3\n",
    "guess_me = 4\n",
    "for number in range(10):\n",
    "    if(number == guess_me):\n",
    "        print(\"found it!\")\n",
    "    elif(number > guess_me):\n",
    "        print(\"oops\")\n",
    "    else:\n",
    "        print(\"too low\")"
   ]
  }
 ],
 "metadata": {
  "kernelspec": {
   "display_name": "base",
   "language": "python",
   "name": "python3"
  },
  "language_info": {
   "codemirror_mode": {
    "name": "ipython",
    "version": 3
   },
   "file_extension": ".py",
   "mimetype": "text/x-python",
   "name": "python",
   "nbconvert_exporter": "python",
   "pygments_lexer": "ipython3",
   "version": "3.11.7"
  }
 },
 "nbformat": 4,
 "nbformat_minor": 2
}
